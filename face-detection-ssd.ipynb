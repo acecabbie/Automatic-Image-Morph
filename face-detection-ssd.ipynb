{
 "cells": [
  {
   "cell_type": "markdown",
   "id": "1da66f7f",
   "metadata": {},
   "source": [
    "# Face Detection Testing\n",
    "\n",
    "Dataset: <https://www.kaggle.com/datasets/drgilermo/face-images-with-marked-landmark-points/data>\n",
    "\n",
    "Pulling the data:\n",
    "\n",
    "```sh\n",
    "#!/bin/bash\n",
    "curl -L -o data/face-images-with-marked-landmark-points.zip \\\n",
    "  https://www.kaggle.com/api/v1/datasets/download/drgilermo/face-images-with-marked-landmark-points\n",
    "```\n"
   ]
  },
  {
   "cell_type": "code",
   "execution_count": null,
   "id": "8ea6cb76",
   "metadata": {},
   "outputs": [],
   "source": [
    "from collections import defaultdict\n",
    "from concurrent.futures import ThreadPoolExecutor\n",
    "from dataclasses import dataclass\n",
    "\n",
    "import cv2\n",
    "import matplotlib.pyplot as plt\n",
    "import numpy as np\n",
    "import pandas as pd\n",
    "from tqdm import tqdm"
   ]
  },
  {
   "cell_type": "code",
   "execution_count": 2,
   "id": "2f2ef218",
   "metadata": {},
   "outputs": [],
   "source": [
    "RANDOM_SEED = 42\n",
    "np.random.seed(RANDOM_SEED)"
   ]
  },
  {
   "cell_type": "code",
   "execution_count": 3,
   "id": "ea268256",
   "metadata": {},
   "outputs": [
    {
     "name": "stderr",
     "output_type": "stream",
     "text": [
      "/var/folders/y0/vzbknx790l9gxxnhh98_987h0000gn/T/ipykernel_69641/2132504517.py:1: UserWarning: Reading `.npy` or `.npz` file required additional header parsing as it was created on Python 2. Save the file again to speed up loading and avoid this warning.\n",
      "  face_images_db = np.load(\"data/face_images.npz\")[\"face_images\"]\n"
     ]
    }
   ],
   "source": [
    "face_images_db = np.load(\"data/face_images.npz\")[\"face_images\"]\n",
    "facial_keypoints_df = pd.read_csv(\"data/facial_keypoints.csv\")\n",
    "\n",
    "(im_height, im_width, num_images) = face_images_db.shape\n",
    "num_keypoints = facial_keypoints_df.shape[1] / 2\n"
   ]
  },
  {
   "cell_type": "code",
   "execution_count": 4,
   "id": "9246f465",
   "metadata": {},
   "outputs": [
    {
     "data": {
      "application/vnd.microsoft.datawrangler.viewer.v0+json": {
       "columns": [
        {
         "name": "index",
         "rawType": "int64",
         "type": "integer"
        },
        {
         "name": "face_image",
         "rawType": "object",
         "type": "unknown"
        },
        {
         "name": "left_eye_center_x",
         "rawType": "float64",
         "type": "float"
        },
        {
         "name": "left_eye_center_y",
         "rawType": "float64",
         "type": "float"
        },
        {
         "name": "right_eye_center_x",
         "rawType": "float64",
         "type": "float"
        },
        {
         "name": "right_eye_center_y",
         "rawType": "float64",
         "type": "float"
        },
        {
         "name": "left_eye_inner_corner_x",
         "rawType": "float64",
         "type": "float"
        },
        {
         "name": "left_eye_inner_corner_y",
         "rawType": "float64",
         "type": "float"
        },
        {
         "name": "left_eye_outer_corner_x",
         "rawType": "float64",
         "type": "float"
        },
        {
         "name": "left_eye_outer_corner_y",
         "rawType": "float64",
         "type": "float"
        },
        {
         "name": "right_eye_inner_corner_x",
         "rawType": "float64",
         "type": "float"
        },
        {
         "name": "right_eye_inner_corner_y",
         "rawType": "float64",
         "type": "float"
        },
        {
         "name": "right_eye_outer_corner_x",
         "rawType": "float64",
         "type": "float"
        },
        {
         "name": "right_eye_outer_corner_y",
         "rawType": "float64",
         "type": "float"
        },
        {
         "name": "left_eyebrow_inner_end_x",
         "rawType": "float64",
         "type": "float"
        },
        {
         "name": "left_eyebrow_inner_end_y",
         "rawType": "float64",
         "type": "float"
        },
        {
         "name": "left_eyebrow_outer_end_x",
         "rawType": "float64",
         "type": "float"
        },
        {
         "name": "left_eyebrow_outer_end_y",
         "rawType": "float64",
         "type": "float"
        },
        {
         "name": "right_eyebrow_inner_end_x",
         "rawType": "float64",
         "type": "float"
        },
        {
         "name": "right_eyebrow_inner_end_y",
         "rawType": "float64",
         "type": "float"
        },
        {
         "name": "right_eyebrow_outer_end_x",
         "rawType": "float64",
         "type": "float"
        },
        {
         "name": "right_eyebrow_outer_end_y",
         "rawType": "float64",
         "type": "float"
        },
        {
         "name": "nose_tip_x",
         "rawType": "float64",
         "type": "float"
        },
        {
         "name": "nose_tip_y",
         "rawType": "float64",
         "type": "float"
        },
        {
         "name": "mouth_left_corner_x",
         "rawType": "float64",
         "type": "float"
        },
        {
         "name": "mouth_left_corner_y",
         "rawType": "float64",
         "type": "float"
        },
        {
         "name": "mouth_right_corner_x",
         "rawType": "float64",
         "type": "float"
        },
        {
         "name": "mouth_right_corner_y",
         "rawType": "float64",
         "type": "float"
        },
        {
         "name": "mouth_center_top_lip_x",
         "rawType": "float64",
         "type": "float"
        },
        {
         "name": "mouth_center_top_lip_y",
         "rawType": "float64",
         "type": "float"
        },
        {
         "name": "mouth_center_bottom_lip_x",
         "rawType": "float64",
         "type": "float"
        },
        {
         "name": "mouth_center_bottom_lip_y",
         "rawType": "float64",
         "type": "float"
        }
       ],
       "conversionMethod": "pd.DataFrame",
       "ref": "7d109322-b8a4-47fd-9d64-357edede57d2",
       "rows": [
        [
         "0",
         "[238 236 237 ...  70  75  90]",
         "66.0335639098",
         "39.0022736842",
         "30.2270075188",
         "36.4216781955",
         "59.582075188",
         "39.6474225564",
         "73.1303458647",
         "39.9699969925",
         "36.3565714286",
         "37.3894015038",
         "23.4528721805",
         "37.3894015038",
         "56.9532631579",
         "29.0336481203",
         "80.2271278195",
         "32.2281383459",
         "40.2276090226",
         "29.0023218045",
         "16.3563789474",
         "29.6474706767",
         "44.4205714286",
         "57.0668030075",
         "61.1953082707",
         "79.9701654135",
         "28.6144962406",
         "77.3889924812",
         "43.3126015038",
         "72.9354586466",
         "43.1307067669",
         "84.4857744361"
        ],
        [
         "1",
         "[219 215 204 ...   1   1   1]",
         "64.3329361702",
         "34.9700765957",
         "29.9492765957",
         "33.4487148936",
         "58.8561702128",
         "35.2743489362",
         "70.7227234043",
         "36.1871659574",
         "36.0347234043",
         "34.3615319149",
         "24.4725106383",
         "33.1444425532",
         "53.9874042553",
         "28.2759489362",
         "78.634212766",
         "30.4059234043",
         "42.7288510638",
         "26.1460425532",
         "16.8653617021",
         "27.0588595745",
         "48.2062978723",
         "55.6609361702",
         "56.4214468085",
         "76.352",
         "35.1223829787",
         "76.0476595745",
         "46.6845957447",
         "70.2665531915",
         "45.4679148936",
         "85.4801702128"
        ],
        [
         "2",
         "[144 142 159 ...  78  78  77]",
         "65.0570526316",
         "34.9096421053",
         "30.9037894737",
         "34.9096421053",
         "59.412",
         "36.3209684211",
         "70.9844210526",
         "36.3209684211",
         "37.6781052632",
         "36.3209684211",
         "24.9764210526",
         "36.6032210526",
         "55.7425263158",
         "27.5709473684",
         "78.8873684211",
         "32.6516210526",
         "42.1938947368",
         "28.1354526316",
         "16.7911578947",
         "32.0871157895",
         "47.5572631579",
         "53.5389473684",
         "60.8229473684",
         "73.0143157895",
         "33.7263157895",
         "72.732",
         "47.2749473684",
         "70.1917894737",
         "47.2749473684",
         "78.6593684211"
        ],
        [
         "3",
         "[193 192 193 ...   1   1   1]",
         "65.2257391304",
         "37.261773913",
         "32.0230956522",
         "37.261773913",
         "60.0033391304",
         "39.1271791304",
         "72.3147130435",
         "38.3809669565",
         "37.6186434783",
         "38.7541147826",
         "25.3072695652",
         "38.0079026087",
         "56.4338086957",
         "30.9298643478",
         "77.9102608696",
         "31.6657252174",
         "41.6715130435",
         "31.0499895652",
         "20.4580173913",
         "29.9093426087",
         "51.8850782609",
         "54.1665391304",
         "65.5988869565",
         "72.7037217391",
         "37.2454956522",
         "74.1954782609",
         "50.3031652174",
         "70.0916869565",
         "51.5611826087",
         "78.2683826087"
        ],
        [
         "4",
         "[147 148 160 ... 140 170 176]",
         "66.7253006135",
         "39.6212613497",
         "32.244809816",
         "38.0420319018",
         "58.5658895706",
         "39.6212613497",
         "72.5159263804",
         "39.8844662577",
         "36.9823803681",
         "39.0948515337",
         "22.5061104294",
         "38.3052368098",
         "57.2495705521",
         "30.6721766871",
         "77.7629447853",
         "31.7372466258",
         "38.0354355828",
         "30.9353815951",
         "15.9258699387",
         "30.6721766871",
         "43.2995337423",
         "64.8895214724",
         "60.6714110429",
         "77.5232392638",
         "31.1917546012",
         "76.9973006135",
         "44.9627484663",
         "73.7073865031",
         "44.2271411043",
         "86.8711656442"
        ]
       ],
       "shape": {
        "columns": 31,
        "rows": 5
       }
      },
      "text/html": [
       "<div>\n",
       "<style scoped>\n",
       "    .dataframe tbody tr th:only-of-type {\n",
       "        vertical-align: middle;\n",
       "    }\n",
       "\n",
       "    .dataframe tbody tr th {\n",
       "        vertical-align: top;\n",
       "    }\n",
       "\n",
       "    .dataframe thead th {\n",
       "        text-align: right;\n",
       "    }\n",
       "</style>\n",
       "<table border=\"1\" class=\"dataframe\">\n",
       "  <thead>\n",
       "    <tr style=\"text-align: right;\">\n",
       "      <th></th>\n",
       "      <th>face_image</th>\n",
       "      <th>left_eye_center_x</th>\n",
       "      <th>left_eye_center_y</th>\n",
       "      <th>right_eye_center_x</th>\n",
       "      <th>right_eye_center_y</th>\n",
       "      <th>left_eye_inner_corner_x</th>\n",
       "      <th>left_eye_inner_corner_y</th>\n",
       "      <th>left_eye_outer_corner_x</th>\n",
       "      <th>left_eye_outer_corner_y</th>\n",
       "      <th>right_eye_inner_corner_x</th>\n",
       "      <th>...</th>\n",
       "      <th>nose_tip_x</th>\n",
       "      <th>nose_tip_y</th>\n",
       "      <th>mouth_left_corner_x</th>\n",
       "      <th>mouth_left_corner_y</th>\n",
       "      <th>mouth_right_corner_x</th>\n",
       "      <th>mouth_right_corner_y</th>\n",
       "      <th>mouth_center_top_lip_x</th>\n",
       "      <th>mouth_center_top_lip_y</th>\n",
       "      <th>mouth_center_bottom_lip_x</th>\n",
       "      <th>mouth_center_bottom_lip_y</th>\n",
       "    </tr>\n",
       "  </thead>\n",
       "  <tbody>\n",
       "    <tr>\n",
       "      <th>0</th>\n",
       "      <td>[238, 236, 237, 238, 240, 240, 239, 241, 241, ...</td>\n",
       "      <td>66.033564</td>\n",
       "      <td>39.002274</td>\n",
       "      <td>30.227008</td>\n",
       "      <td>36.421678</td>\n",
       "      <td>59.582075</td>\n",
       "      <td>39.647423</td>\n",
       "      <td>73.130346</td>\n",
       "      <td>39.969997</td>\n",
       "      <td>36.356571</td>\n",
       "      <td>...</td>\n",
       "      <td>44.420571</td>\n",
       "      <td>57.066803</td>\n",
       "      <td>61.195308</td>\n",
       "      <td>79.970165</td>\n",
       "      <td>28.614496</td>\n",
       "      <td>77.388992</td>\n",
       "      <td>43.312602</td>\n",
       "      <td>72.935459</td>\n",
       "      <td>43.130707</td>\n",
       "      <td>84.485774</td>\n",
       "    </tr>\n",
       "    <tr>\n",
       "      <th>1</th>\n",
       "      <td>[219, 215, 204, 196, 204, 211, 212, 200, 180, ...</td>\n",
       "      <td>64.332936</td>\n",
       "      <td>34.970077</td>\n",
       "      <td>29.949277</td>\n",
       "      <td>33.448715</td>\n",
       "      <td>58.856170</td>\n",
       "      <td>35.274349</td>\n",
       "      <td>70.722723</td>\n",
       "      <td>36.187166</td>\n",
       "      <td>36.034723</td>\n",
       "      <td>...</td>\n",
       "      <td>48.206298</td>\n",
       "      <td>55.660936</td>\n",
       "      <td>56.421447</td>\n",
       "      <td>76.352000</td>\n",
       "      <td>35.122383</td>\n",
       "      <td>76.047660</td>\n",
       "      <td>46.684596</td>\n",
       "      <td>70.266553</td>\n",
       "      <td>45.467915</td>\n",
       "      <td>85.480170</td>\n",
       "    </tr>\n",
       "    <tr>\n",
       "      <th>2</th>\n",
       "      <td>[144, 142, 159, 180, 188, 188, 184, 180, 167, ...</td>\n",
       "      <td>65.057053</td>\n",
       "      <td>34.909642</td>\n",
       "      <td>30.903789</td>\n",
       "      <td>34.909642</td>\n",
       "      <td>59.412000</td>\n",
       "      <td>36.320968</td>\n",
       "      <td>70.984421</td>\n",
       "      <td>36.320968</td>\n",
       "      <td>37.678105</td>\n",
       "      <td>...</td>\n",
       "      <td>47.557263</td>\n",
       "      <td>53.538947</td>\n",
       "      <td>60.822947</td>\n",
       "      <td>73.014316</td>\n",
       "      <td>33.726316</td>\n",
       "      <td>72.732000</td>\n",
       "      <td>47.274947</td>\n",
       "      <td>70.191789</td>\n",
       "      <td>47.274947</td>\n",
       "      <td>78.659368</td>\n",
       "    </tr>\n",
       "    <tr>\n",
       "      <th>3</th>\n",
       "      <td>[193, 192, 193, 194, 194, 194, 193, 192, 168, ...</td>\n",
       "      <td>65.225739</td>\n",
       "      <td>37.261774</td>\n",
       "      <td>32.023096</td>\n",
       "      <td>37.261774</td>\n",
       "      <td>60.003339</td>\n",
       "      <td>39.127179</td>\n",
       "      <td>72.314713</td>\n",
       "      <td>38.380967</td>\n",
       "      <td>37.618643</td>\n",
       "      <td>...</td>\n",
       "      <td>51.885078</td>\n",
       "      <td>54.166539</td>\n",
       "      <td>65.598887</td>\n",
       "      <td>72.703722</td>\n",
       "      <td>37.245496</td>\n",
       "      <td>74.195478</td>\n",
       "      <td>50.303165</td>\n",
       "      <td>70.091687</td>\n",
       "      <td>51.561183</td>\n",
       "      <td>78.268383</td>\n",
       "    </tr>\n",
       "    <tr>\n",
       "      <th>4</th>\n",
       "      <td>[147, 148, 160, 196, 215, 214, 216, 217, 219, ...</td>\n",
       "      <td>66.725301</td>\n",
       "      <td>39.621261</td>\n",
       "      <td>32.244810</td>\n",
       "      <td>38.042032</td>\n",
       "      <td>58.565890</td>\n",
       "      <td>39.621261</td>\n",
       "      <td>72.515926</td>\n",
       "      <td>39.884466</td>\n",
       "      <td>36.982380</td>\n",
       "      <td>...</td>\n",
       "      <td>43.299534</td>\n",
       "      <td>64.889521</td>\n",
       "      <td>60.671411</td>\n",
       "      <td>77.523239</td>\n",
       "      <td>31.191755</td>\n",
       "      <td>76.997301</td>\n",
       "      <td>44.962748</td>\n",
       "      <td>73.707387</td>\n",
       "      <td>44.227141</td>\n",
       "      <td>86.871166</td>\n",
       "    </tr>\n",
       "  </tbody>\n",
       "</table>\n",
       "<p>5 rows × 31 columns</p>\n",
       "</div>"
      ],
      "text/plain": [
       "                                          face_image  left_eye_center_x  \\\n",
       "0  [238, 236, 237, 238, 240, 240, 239, 241, 241, ...          66.033564   \n",
       "1  [219, 215, 204, 196, 204, 211, 212, 200, 180, ...          64.332936   \n",
       "2  [144, 142, 159, 180, 188, 188, 184, 180, 167, ...          65.057053   \n",
       "3  [193, 192, 193, 194, 194, 194, 193, 192, 168, ...          65.225739   \n",
       "4  [147, 148, 160, 196, 215, 214, 216, 217, 219, ...          66.725301   \n",
       "\n",
       "   left_eye_center_y  right_eye_center_x  right_eye_center_y  \\\n",
       "0          39.002274           30.227008           36.421678   \n",
       "1          34.970077           29.949277           33.448715   \n",
       "2          34.909642           30.903789           34.909642   \n",
       "3          37.261774           32.023096           37.261774   \n",
       "4          39.621261           32.244810           38.042032   \n",
       "\n",
       "   left_eye_inner_corner_x  left_eye_inner_corner_y  left_eye_outer_corner_x  \\\n",
       "0                59.582075                39.647423                73.130346   \n",
       "1                58.856170                35.274349                70.722723   \n",
       "2                59.412000                36.320968                70.984421   \n",
       "3                60.003339                39.127179                72.314713   \n",
       "4                58.565890                39.621261                72.515926   \n",
       "\n",
       "   left_eye_outer_corner_y  right_eye_inner_corner_x  ...  nose_tip_x  \\\n",
       "0                39.969997                 36.356571  ...   44.420571   \n",
       "1                36.187166                 36.034723  ...   48.206298   \n",
       "2                36.320968                 37.678105  ...   47.557263   \n",
       "3                38.380967                 37.618643  ...   51.885078   \n",
       "4                39.884466                 36.982380  ...   43.299534   \n",
       "\n",
       "   nose_tip_y  mouth_left_corner_x  mouth_left_corner_y  mouth_right_corner_x  \\\n",
       "0   57.066803            61.195308            79.970165             28.614496   \n",
       "1   55.660936            56.421447            76.352000             35.122383   \n",
       "2   53.538947            60.822947            73.014316             33.726316   \n",
       "3   54.166539            65.598887            72.703722             37.245496   \n",
       "4   64.889521            60.671411            77.523239             31.191755   \n",
       "\n",
       "   mouth_right_corner_y  mouth_center_top_lip_x  mouth_center_top_lip_y  \\\n",
       "0             77.388992               43.312602               72.935459   \n",
       "1             76.047660               46.684596               70.266553   \n",
       "2             72.732000               47.274947               70.191789   \n",
       "3             74.195478               50.303165               70.091687   \n",
       "4             76.997301               44.962748               73.707387   \n",
       "\n",
       "   mouth_center_bottom_lip_x  mouth_center_bottom_lip_y  \n",
       "0                  43.130707                  84.485774  \n",
       "1                  45.467915                  85.480170  \n",
       "2                  47.274947                  78.659368  \n",
       "3                  51.561183                  78.268383  \n",
       "4                  44.227141                  86.871166  \n",
       "\n",
       "[5 rows x 31 columns]"
      ]
     },
     "execution_count": 4,
     "metadata": {},
     "output_type": "execute_result"
    }
   ],
   "source": [
    "face_img_col = (\n",
    "    np.transpose(face_images_db, (2, 0, 1))\n",
    "    .reshape(num_images, im_height * im_width)\n",
    "    .astype(np.uint8)\n",
    ")\n",
    "face_img_col = [np.array(l, dtype=np.uint8) for l in face_img_col.tolist()]\n",
    "\n",
    "\n",
    "df = facial_keypoints_df.copy()\n",
    "df.insert(0, \"face_image\", face_img_col)\n",
    "df = df.dropna(axis=0, how=\"any\")\n",
    "\n",
    "df.head()"
   ]
  },
  {
   "cell_type": "code",
   "execution_count": 5,
   "id": "b0617a14",
   "metadata": {},
   "outputs": [
    {
     "name": "stdout",
     "output_type": "stream",
     "text": [
      "(1712, 31)\n",
      "(428, 31)\n"
     ]
    }
   ],
   "source": [
    "train_df = df.sample(frac=0.8, random_state=RANDOM_SEED)\n",
    "test_df = df.drop(train_df.index)\n",
    "train_df = train_df.reset_index(drop=True)\n",
    "test_df = test_df.reset_index(drop=True)\n",
    "\n",
    "print(f\"{train_df.shape}\")\n",
    "print(f\"{test_df.shape}\")\n"
   ]
  },
  {
   "cell_type": "code",
   "execution_count": 43,
   "id": "39c2d5b7",
   "metadata": {},
   "outputs": [
    {
     "data": {
      "image/png": "[encoded data removed]",
      "text/plain": [
       "<Figure size 640x480 with 1 Axes>"
      ]
     },
     "metadata": {},
     "output_type": "display_data"
    }
   ],
   "source": [
    "first_img = train_df.iloc[0][\"face_image\"]\n",
    "keypoints_x = train_df[[c for c in train_df.columns if c.endswith(\"_x\")]].values[0]\n",
    "keypoints_y = train_df[[c for c in train_df.columns if c.endswith(\"_y\")]].values[0]\n",
    "\n",
    "plt.figure()\n",
    "plt.imshow(first_img.reshape(im_height, im_width), cmap=\"gray\")\n",
    "plt.scatter(keypoints_x, keypoints_y, c=\"r\", s=10)\n",
    "for i in range(int(num_keypoints)):\n",
    "    plt.text(keypoints_x[i], keypoints_y[i], str(i), color=\"white\", fontsize=8)\n",
    "plt.axis(\"off\")\n",
    "plt.show()"
   ]
  },
  {
   "cell_type": "code",
   "execution_count": 7,
   "id": "9b6355e5",
   "metadata": {},
   "outputs": [],
   "source": [
    "@dataclass\n",
    "class KeypointSearchResult:\n",
    "    hottest_point: tuple\n",
    "    heatmap: np.ndarray\n",
    "\n",
    "    def distance(self, other):\n",
    "        return np.sqrt(\n",
    "            (self.hottest_point[0] - other.hottest_point[0]) ** 2\n",
    "            + (self.hottest_point[1] - other.hottest_point[1]) ** 2\n",
    "        )\n",
    "\n",
    "\n",
    "class KeypointModel:\n",
    "    _img_width = 96\n",
    "    _img_height = 96\n",
    "    _region_size = 6\n",
    "    _kp_regions = defaultdict(list)\n",
    "    _kp_regions_edges = defaultdict(list)\n",
    "    _top_n = 1\n",
    "\n",
    "    def img_edges(self, img: np.ndarray):\n",
    "        img_edges = cv2.filter2D(\n",
    "            img, -1, np.array([[0, 1, 0], [1, -4, 1], [0, 1, 0]], dtype=np.float32)\n",
    "        )\n",
    "        return img_edges\n",
    "\n",
    "    def train(self, train_df: pd.DataFrame):\n",
    "        self.train_df = train_df.copy()\n",
    "\n",
    "        kp_names = [s[:-2] for s in train_df.columns if s.endswith(\"_x\")]\n",
    "\n",
    "        for row in tqdm(train_df.itertuples(), total=len(train_df)):\n",
    "            img = row.face_image.reshape(self._img_height, self._img_width)\n",
    "            img_edges = self.img_edges(img)\n",
    "\n",
    "            kp_x = train_df.loc[row.Index][\n",
    "                [c for c in train_df.columns if c.endswith(\"_x\")]\n",
    "            ]\n",
    "            kp_y = train_df.loc[row.Index][\n",
    "                [c for c in train_df.columns if c.endswith(\"_y\")]\n",
    "            ]\n",
    "\n",
    "            for i in range(len(kp_x)):\n",
    "                x = int(kp_x.iloc[i])\n",
    "                y = int(kp_y.iloc[i])\n",
    "                kp_name = kp_names[i]\n",
    "\n",
    "                top = y - self._region_size\n",
    "                left = x - self._region_size\n",
    "                bottom = y + self._region_size\n",
    "                right = x + self._region_size\n",
    "\n",
    "                # Check if the region is within the image bounds\n",
    "                if (\n",
    "                    top < 0\n",
    "                    or left < 0\n",
    "                    or bottom >= self._img_height\n",
    "                    or right >= self._img_width\n",
    "                ):\n",
    "                    continue\n",
    "\n",
    "                region = img[top : bottom + 1, left : right + 1]\n",
    "                region_edges = img_edges[top : bottom + 1, left : right + 1]\n",
    "\n",
    "                self._kp_regions[kp_name].append(region)\n",
    "                self._kp_regions_edges[kp_name].append(region_edges)\n",
    "\n",
    "    def search(self, img: np.ndarray):\n",
    "        img = img.reshape(self._img_height, self._img_width)\n",
    "        kp_names = list(self._kp_regions.keys())\n",
    "        kp_coords = dict()\n",
    "\n",
    "        def process_kp_name(kp_name):\n",
    "            regions = self._kp_regions_edges[kp_name]\n",
    "            points = np.zeros((len(regions) * self._top_n, 2), dtype=int)\n",
    "\n",
    "            img_edges = self.img_edges(img)\n",
    "\n",
    "            for i, region in enumerate(regions):\n",
    "                points_start = i * self._top_n\n",
    "                points_end = int(\n",
    "                    np.min([(i + 1) * self._top_n, len(regions) * self._top_n])\n",
    "                )\n",
    "\n",
    "                filtered = self._search_filter(img_edges, region)\n",
    "\n",
    "                top_n = np.unravel_index(\n",
    "                    np.argsort(filtered, axis=None)[-self._top_n :], filtered.shape\n",
    "                )\n",
    "                top_n = np.array(top_n).T + self._region_size\n",
    "\n",
    "                points[points_start:points_end, :] = top_n\n",
    "\n",
    "            return kp_name, points\n",
    "\n",
    "        with ThreadPoolExecutor() as tpe:\n",
    "            results = list(tpe.map(process_kp_name, kp_names))\n",
    "\n",
    "        for kp_name, points in results:\n",
    "            heatmap = np.zeros((self._img_height, self._img_width), dtype=np.uint32)\n",
    "            for coord in points:\n",
    "                heatmap[coord[0], coord[1]] += 1\n",
    "\n",
    "            hottest_point = np.unravel_index(np.argmax(heatmap), heatmap.shape)\n",
    "\n",
    "            # log_heatmap = np.log(heatmap.astype(np.float32) + 1)\n",
    "\n",
    "            # # Overlay heatmap on the image\n",
    "            # plt.figure()\n",
    "            # plt.imshow(img, cmap=\"gray\", alpha=1.0)  # Display the image in grayscale\n",
    "            # plt.imshow(log_heatmap, cmap=\"jet\", alpha=0.5)  # Overlay the heatmap\n",
    "            # plt.scatter(\n",
    "            #     hottest_point[1], hottest_point[0], c=\"r\", s=100, label=\"Hottest Point\"\n",
    "            # )\n",
    "            # plt.title(f\"Keypoint: {kp_name}\")\n",
    "            # plt.axis(\"off\")\n",
    "            # plt.colorbar(label=\"Heatmap Intensity\")\n",
    "            # plt.show()\n",
    "\n",
    "            kp_coords[kp_name] = KeypointSearchResult(\n",
    "                hottest_point=hottest_point,\n",
    "                heatmap=heatmap,\n",
    "            )\n",
    "\n",
    "        return kp_coords\n",
    "\n",
    "    def _search_filter(self, img: np.ndarray, filter_: np.ndarray):\n",
    "        filtered = cv2.matchTemplate(img, filter_, cv2.TM_CCOEFF_NORMED)\n",
    "        return filtered\n",
    "\n",
    "    def evaluate(self, test_df: pd.DataFrame):\n",
    "        test_df = test_df.copy()\n",
    "\n",
    "        columar = defaultdict(list)\n",
    "\n",
    "        def process_row(row):\n",
    "            img = row.face_image.reshape(self._img_height, self._img_width)\n",
    "            search_results = self.search(img)\n",
    "            return row.Index, search_results\n",
    "\n",
    "        with ThreadPoolExecutor() as executor:\n",
    "            results = list(\n",
    "                tqdm(\n",
    "                    executor.map(process_row, test_df.itertuples()),\n",
    "                    total=len(test_df),\n",
    "                    desc=\"Evaluating images\",\n",
    "                )\n",
    "            )\n",
    "\n",
    "        for _, search_results in results:\n",
    "            for kp_name, search_result in search_results.items():\n",
    "                col_x = f\"eval_{kp_name}_x\"\n",
    "                col_y = f\"eval_{kp_name}_y\"\n",
    "\n",
    "                columar[col_x].append(search_result.hottest_point[1])\n",
    "                columar[col_y].append(search_result.hottest_point[0])\n",
    "\n",
    "        return pd.DataFrame(columar, index=test_df.index)"
   ]
  },
  {
   "cell_type": "code",
   "execution_count": 8,
   "id": "94054c03",
   "metadata": {},
   "outputs": [
    {
     "name": "stderr",
     "output_type": "stream",
     "text": [
      "100%|██████████| 1712/1712 [00:00<00:00, 4236.43it/s]\n"
     ]
    }
   ],
   "source": [
    "kpm = KeypointModel()\n",
    "kpm.train(train_df)"
   ]
  },
  {
   "cell_type": "code",
   "execution_count": 9,
   "id": "c9c37aca",
   "metadata": {},
   "outputs": [
    {
     "data": {
      "image/png": "[encoded data removed]",
      "text/plain": [
       "<Figure size 640x480 with 1 Axes>"
      ]
     },
     "metadata": {},
     "output_type": "display_data"
    }
   ],
   "source": [
    "im = test_df.iloc[32][\"face_image\"].reshape(im_height, im_width)\n",
    "\n",
    "first_search = kpm.search(im)\n",
    "\n",
    "plt.figure()\n",
    "plt.imshow(im.reshape(im_height, im_width), cmap=\"gray\")\n",
    "for kp_name, search_result in first_search.items():\n",
    "    plt.scatter(\n",
    "        search_result.hottest_point[1],\n",
    "        search_result.hottest_point[0],\n",
    "        s=100,\n",
    "        label=f\"{kp_name} hottest point\",\n",
    "    )\n",
    "plt.axis(\"off\")\n",
    "plt.title(\"Hottest points\")\n",
    "plt.legend(loc=\"upper left\", bbox_to_anchor=(1, 1))\n",
    "plt.show()\n"
   ]
  },
  {
   "cell_type": "code",
   "execution_count": 22,
   "id": "3c920168",
   "metadata": {},
   "outputs": [
    {
     "name": "stderr",
     "output_type": "stream",
     "text": [
      "Evaluating images: 100%|██████████| 428/428 [14:52<00:00,  2.09s/it]\n"
     ]
    }
   ],
   "source": [
    "tested = kpm.evaluate(test_df)"
   ]
  },
  {
   "cell_type": "code",
   "execution_count": 23,
   "id": "2d5d7df2",
   "metadata": {},
   "outputs": [
    {
     "data": {
      "text/plain": [
       "(428, 30)"
      ]
     },
     "execution_count": 23,
     "metadata": {},
     "output_type": "execute_result"
    }
   ],
   "source": [
    "tested.shape"
   ]
  },
  {
   "cell_type": "code",
   "execution_count": 24,
   "id": "457e05a7",
   "metadata": {},
   "outputs": [
    {
     "name": "stdout",
     "output_type": "stream",
     "text": [
      "(428, 61)\n"
     ]
    },
    {
     "data": {
      "application/vnd.microsoft.datawrangler.viewer.v0+json": {
       "columns": [
        {
         "name": "index",
         "rawType": "int64",
         "type": "integer"
        },
        {
         "name": "face_image",
         "rawType": "object",
         "type": "unknown"
        },
        {
         "name": "left_eye_center_x",
         "rawType": "float64",
         "type": "float"
        },
        {
         "name": "left_eye_center_y",
         "rawType": "float64",
         "type": "float"
        },
        {
         "name": "right_eye_center_x",
         "rawType": "float64",
         "type": "float"
        },
        {
         "name": "right_eye_center_y",
         "rawType": "float64",
         "type": "float"
        },
        {
         "name": "left_eye_inner_corner_x",
         "rawType": "float64",
         "type": "float"
        },
        {
         "name": "left_eye_inner_corner_y",
         "rawType": "float64",
         "type": "float"
        },
        {
         "name": "left_eye_outer_corner_x",
         "rawType": "float64",
         "type": "float"
        },
        {
         "name": "left_eye_outer_corner_y",
         "rawType": "float64",
         "type": "float"
        },
        {
         "name": "right_eye_inner_corner_x",
         "rawType": "float64",
         "type": "float"
        },
        {
         "name": "right_eye_inner_corner_y",
         "rawType": "float64",
         "type": "float"
        },
        {
         "name": "right_eye_outer_corner_x",
         "rawType": "float64",
         "type": "float"
        },
        {
         "name": "right_eye_outer_corner_y",
         "rawType": "float64",
         "type": "float"
        },
        {
         "name": "left_eyebrow_inner_end_x",
         "rawType": "float64",
         "type": "float"
        },
        {
         "name": "left_eyebrow_inner_end_y",
         "rawType": "float64",
         "type": "float"
        },
        {
         "name": "left_eyebrow_outer_end_x",
         "rawType": "float64",
         "type": "float"
        },
        {
         "name": "left_eyebrow_outer_end_y",
         "rawType": "float64",
         "type": "float"
        },
        {
         "name": "right_eyebrow_inner_end_x",
         "rawType": "float64",
         "type": "float"
        },
        {
         "name": "right_eyebrow_inner_end_y",
         "rawType": "float64",
         "type": "float"
        },
        {
         "name": "right_eyebrow_outer_end_x",
         "rawType": "float64",
         "type": "float"
        },
        {
         "name": "right_eyebrow_outer_end_y",
         "rawType": "float64",
         "type": "float"
        },
        {
         "name": "nose_tip_x",
         "rawType": "float64",
         "type": "float"
        },
        {
         "name": "nose_tip_y",
         "rawType": "float64",
         "type": "float"
        },
        {
         "name": "mouth_left_corner_x",
         "rawType": "float64",
         "type": "float"
        },
        {
         "name": "mouth_left_corner_y",
         "rawType": "float64",
         "type": "float"
        },
        {
         "name": "mouth_right_corner_x",
         "rawType": "float64",
         "type": "float"
        },
        {
         "name": "mouth_right_corner_y",
         "rawType": "float64",
         "type": "float"
        },
        {
         "name": "mouth_center_top_lip_x",
         "rawType": "float64",
         "type": "float"
        },
        {
         "name": "mouth_center_top_lip_y",
         "rawType": "float64",
         "type": "float"
        },
        {
         "name": "mouth_center_bottom_lip_x",
         "rawType": "float64",
         "type": "float"
        },
        {
         "name": "mouth_center_bottom_lip_y",
         "rawType": "float64",
         "type": "float"
        },
        {
         "name": "eval_left_eye_center_x",
         "rawType": "int64",
         "type": "integer"
        },
        {
         "name": "eval_left_eye_center_y",
         "rawType": "int64",
         "type": "integer"
        },
        {
         "name": "eval_right_eye_center_x",
         "rawType": "int64",
         "type": "integer"
        },
        {
         "name": "eval_right_eye_center_y",
         "rawType": "int64",
         "type": "integer"
        },
        {
         "name": "eval_left_eye_inner_corner_x",
         "rawType": "int64",
         "type": "integer"
        },
        {
         "name": "eval_left_eye_inner_corner_y",
         "rawType": "int64",
         "type": "integer"
        },
        {
         "name": "eval_left_eye_outer_corner_x",
         "rawType": "int64",
         "type": "integer"
        },
        {
         "name": "eval_left_eye_outer_corner_y",
         "rawType": "int64",
         "type": "integer"
        },
        {
         "name": "eval_right_eye_inner_corner_x",
         "rawType": "int64",
         "type": "integer"
        },
        {
         "name": "eval_right_eye_inner_corner_y",
         "rawType": "int64",
         "type": "integer"
        },
        {
         "name": "eval_right_eye_outer_corner_x",
         "rawType": "int64",
         "type": "integer"
        },
        {
         "name": "eval_right_eye_outer_corner_y",
         "rawType": "int64",
         "type": "integer"
        },
        {
         "name": "eval_left_eyebrow_inner_end_x",
         "rawType": "int64",
         "type": "integer"
        },
        {
         "name": "eval_left_eyebrow_inner_end_y",
         "rawType": "int64",
         "type": "integer"
        },
        {
         "name": "eval_left_eyebrow_outer_end_x",
         "rawType": "int64",
         "type": "integer"
        },
        {
         "name": "eval_left_eyebrow_outer_end_y",
         "rawType": "int64",
         "type": "integer"
        },
        {
         "name": "eval_right_eyebrow_inner_end_x",
         "rawType": "int64",
         "type": "integer"
        },
        {
         "name": "eval_right_eyebrow_inner_end_y",
         "rawType": "int64",
         "type": "integer"
        },
        {
         "name": "eval_right_eyebrow_outer_end_x",
         "rawType": "int64",
         "type": "integer"
        },
        {
         "name": "eval_right_eyebrow_outer_end_y",
         "rawType": "int64",
         "type": "integer"
        },
        {
         "name": "eval_nose_tip_x",
         "rawType": "int64",
         "type": "integer"
        },
        {
         "name": "eval_nose_tip_y",
         "rawType": "int64",
         "type": "integer"
        },
        {
         "name": "eval_mouth_left_corner_x",
         "rawType": "int64",
         "type": "integer"
        },
        {
         "name": "eval_mouth_left_corner_y",
         "rawType": "int64",
         "type": "integer"
        },
        {
         "name": "eval_mouth_right_corner_x",
         "rawType": "int64",
         "type": "integer"
        },
        {
         "name": "eval_mouth_right_corner_y",
         "rawType": "int64",
         "type": "integer"
        },
        {
         "name": "eval_mouth_center_top_lip_x",
         "rawType": "int64",
         "type": "integer"
        },
        {
         "name": "eval_mouth_center_top_lip_y",
         "rawType": "int64",
         "type": "integer"
        },
        {
         "name": "eval_mouth_center_bottom_lip_x",
         "rawType": "int64",
         "type": "integer"
        },
        {
         "name": "eval_mouth_center_bottom_lip_y",
         "rawType": "int64",
         "type": "integer"
        }
       ],
       "conversionMethod": "pd.DataFrame",
       "ref": "05b2a727-27ed-4686-a5c1-114ff96f117c",
       "rows": [
        [
         "0",
         "[219 215 204 ...   1   1   1]",
         "64.3329361702",
         "34.9700765957",
         "29.9492765957",
         "33.4487148936",
         "58.8561702128",
         "35.2743489362",
         "70.7227234043",
         "36.1871659574",
         "36.0347234043",
         "34.3615319149",
         "24.4725106383",
         "33.1444425532",
         "53.9874042553",
         "28.2759489362",
         "78.634212766",
         "30.4059234043",
         "42.7288510638",
         "26.1460425532",
         "16.8653617021",
         "27.0588595745",
         "48.2062978723",
         "55.6609361702",
         "56.4214468085",
         "76.352",
         "35.1223829787",
         "76.0476595745",
         "46.6845957447",
         "70.2665531915",
         "45.4679148936",
         "85.4801702128",
         "64",
         "34",
         "64",
         "34",
         "58",
         "35",
         "70",
         "35",
         "70",
         "35",
         "20",
         "35",
         "55",
         "27",
         "78",
         "30",
         "39",
         "24",
         "17",
         "26",
         "47",
         "55",
         "57",
         "76",
         "33",
         "75",
         "30",
         "20",
         "81",
         "80"
        ],
        [
         "1",
         "[164 158 118 ...  85 102 138]",
         "65.80288",
         "34.7552",
         "27.47584",
         "36.1856",
         "58.65216",
         "37.32928",
         "72.95296",
         "35.89952",
         "36.3424",
         "37.0432",
         "20.32512",
         "37.61536",
         "57.50784",
         "25.0304",
         "79.2736",
         "28.63424",
         "36.3424",
         "26.17472",
         "12.88896",
         "31.32288",
         "48.06976",
         "55.34848",
         "65.5168",
         "73.36832",
         "31.19424",
         "74.79808",
         "49.21344",
         "67.648",
         "49.49952",
         "83.09312",
         "65",
         "35",
         "27",
         "36",
         "58",
         "36",
         "72",
         "35",
         "74",
         "35",
         "20",
         "36",
         "57",
         "25",
         "78",
         "27",
         "36",
         "26",
         "14",
         "28",
         "11",
         "22",
         "64",
         "73",
         "32",
         "74",
         "29",
         "22",
         "47",
         "83"
        ],
        [
         "2",
         "[201 200 202 ...   1   1   1]",
         "66.6769411765",
         "33.9412235294",
         "30.7136470588",
         "36.1495058824",
         "60.3670588235",
         "35.2031294118",
         "71.724",
         "33.3103058824",
         "36.7072941176",
         "36.4649647059",
         "24.0889411765",
         "36.1495058824",
         "59.4211764706",
         "29.8401882353",
         "77.0872941176",
         "27.6319764706",
         "38.916",
         "31.4175529412",
         "17.9774117647",
         "30.7551529412",
         "49.3263529412",
         "60.4404705882",
         "64.4682352941",
         "72.4277647059",
         "35.7614117647",
         "73.0588235294",
         "50.2722352941",
         "71.7967058824",
         "50.5877647059",
         "82.5225882353",
         "30",
         "35",
         "30",
         "35",
         "59",
         "35",
         "72",
         "34",
         "36",
         "36",
         "23",
         "35",
         "18",
         "37",
         "17",
         "44",
         "74",
         "27",
         "17",
         "37",
         "48",
         "57",
         "85",
         "60",
         "54",
         "60",
         "73",
         "22",
         "67",
         "46"
        ],
        [
         "3",
         "[202 201 201 ...   1   1   1]",
         "66.8504275862",
         "35.6369875862",
         "32.5281103448",
         "36.5246234483",
         "61.2288",
         "36.5246234483",
         "71.5848827586",
         "35.3411089655",
         "38.149737931",
         "37.4123255172",
         "26.0186482759",
         "37.1164468966",
         "59.0419862069",
         "31.9251641379",
         "76.0227310345",
         "28.8316468966",
         "40.5166344828",
         "32.086377931",
         "21.8760827586",
         "32.6781351724",
         "49.688937931",
         "58.1243586207",
         "65.3707034483",
         "71.4392275862",
         "35.7828413793",
         "71.7345103448",
         "50.2808275862",
         "70.2554482759",
         "49.688937931",
         "80.6115310345",
         "66",
         "35",
         "32",
         "36",
         "60",
         "36",
         "72",
         "36",
         "38",
         "37",
         "25",
         "37",
         "20",
         "38",
         "59",
         "60",
         "61",
         "53",
         "20",
         "38",
         "49",
         "55",
         "56",
         "80",
         "55",
         "72",
         "49",
         "89",
         "49",
         "86"
        ],
        [
         "4",
         "[ 64  56  53 ...  94 154 187]",
         "69.2334545455",
         "40.0215272727",
         "25.5508363636",
         "38.0718545455",
         "60.2626909091",
         "40.0215272727",
         "76.2545454545",
         "40.4116363636",
         "33.3512727273",
         "38.4619636364",
         "17.7495272727",
         "38.8520727273",
         "59.4833454545",
         "28.3208727273",
         "83.3376",
         "33.2875636364",
         "35.3009454545",
         "25.9810909091",
         "11.8996363636",
         "28.3208727273",
         "45.8321454545",
         "60.3028363636",
         "62.2132363636",
         "81.3643636364",
         "29.4510545455",
         "81.3643636364",
         "46.6123636364",
         "76.6848",
         "45.8321454545",
         "93.456",
         "67",
         "39",
         "67",
         "39",
         "17",
         "38",
         "76",
         "40",
         "33",
         "38",
         "17",
         "38",
         "13",
         "39",
         "79",
         "42",
         "87",
         "79",
         "13",
         "39",
         "9",
         "51",
         "62",
         "81",
         "28",
         "80",
         "46",
         "79",
         "45",
         "88"
        ]
       ],
       "shape": {
        "columns": 61,
        "rows": 5
       }
      },
      "text/html": [
       "<div>\n",
       "<style scoped>\n",
       "    .dataframe tbody tr th:only-of-type {\n",
       "        vertical-align: middle;\n",
       "    }\n",
       "\n",
       "    .dataframe tbody tr th {\n",
       "        vertical-align: top;\n",
       "    }\n",
       "\n",
       "    .dataframe thead th {\n",
       "        text-align: right;\n",
       "    }\n",
       "</style>\n",
       "<table border=\"1\" class=\"dataframe\">\n",
       "  <thead>\n",
       "    <tr style=\"text-align: right;\">\n",
       "      <th></th>\n",
       "      <th>face_image</th>\n",
       "      <th>left_eye_center_x</th>\n",
       "      <th>left_eye_center_y</th>\n",
       "      <th>right_eye_center_x</th>\n",
       "      <th>right_eye_center_y</th>\n",
       "      <th>left_eye_inner_corner_x</th>\n",
       "      <th>left_eye_inner_corner_y</th>\n",
       "      <th>left_eye_outer_corner_x</th>\n",
       "      <th>left_eye_outer_corner_y</th>\n",
       "      <th>right_eye_inner_corner_x</th>\n",
       "      <th>...</th>\n",
       "      <th>eval_nose_tip_x</th>\n",
       "      <th>eval_nose_tip_y</th>\n",
       "      <th>eval_mouth_left_corner_x</th>\n",
       "      <th>eval_mouth_left_corner_y</th>\n",
       "      <th>eval_mouth_right_corner_x</th>\n",
       "      <th>eval_mouth_right_corner_y</th>\n",
       "      <th>eval_mouth_center_top_lip_x</th>\n",
       "      <th>eval_mouth_center_top_lip_y</th>\n",
       "      <th>eval_mouth_center_bottom_lip_x</th>\n",
       "      <th>eval_mouth_center_bottom_lip_y</th>\n",
       "    </tr>\n",
       "  </thead>\n",
       "  <tbody>\n",
       "    <tr>\n",
       "      <th>0</th>\n",
       "      <td>[219, 215, 204, 196, 204, 211, 212, 200, 180, ...</td>\n",
       "      <td>64.332936</td>\n",
       "      <td>34.970077</td>\n",
       "      <td>29.949277</td>\n",
       "      <td>33.448715</td>\n",
       "      <td>58.856170</td>\n",
       "      <td>35.274349</td>\n",
       "      <td>70.722723</td>\n",
       "      <td>36.187166</td>\n",
       "      <td>36.034723</td>\n",
       "      <td>...</td>\n",
       "      <td>47</td>\n",
       "      <td>55</td>\n",
       "      <td>57</td>\n",
       "      <td>76</td>\n",
       "      <td>33</td>\n",
       "      <td>75</td>\n",
       "      <td>30</td>\n",
       "      <td>20</td>\n",
       "      <td>81</td>\n",
       "      <td>80</td>\n",
       "    </tr>\n",
       "    <tr>\n",
       "      <th>1</th>\n",
       "      <td>[164, 158, 118, 76, 66, 69, 59, 53, 43, 31, 35...</td>\n",
       "      <td>65.802880</td>\n",
       "      <td>34.755200</td>\n",
       "      <td>27.475840</td>\n",
       "      <td>36.185600</td>\n",
       "      <td>58.652160</td>\n",
       "      <td>37.329280</td>\n",
       "      <td>72.952960</td>\n",
       "      <td>35.899520</td>\n",
       "      <td>36.342400</td>\n",
       "      <td>...</td>\n",
       "      <td>11</td>\n",
       "      <td>22</td>\n",
       "      <td>64</td>\n",
       "      <td>73</td>\n",
       "      <td>32</td>\n",
       "      <td>74</td>\n",
       "      <td>29</td>\n",
       "      <td>22</td>\n",
       "      <td>47</td>\n",
       "      <td>83</td>\n",
       "    </tr>\n",
       "    <tr>\n",
       "      <th>2</th>\n",
       "      <td>[201, 200, 202, 193, 124, 59, 53, 50, 48, 56, ...</td>\n",
       "      <td>66.676941</td>\n",
       "      <td>33.941224</td>\n",
       "      <td>30.713647</td>\n",
       "      <td>36.149506</td>\n",
       "      <td>60.367059</td>\n",
       "      <td>35.203129</td>\n",
       "      <td>71.724000</td>\n",
       "      <td>33.310306</td>\n",
       "      <td>36.707294</td>\n",
       "      <td>...</td>\n",
       "      <td>48</td>\n",
       "      <td>57</td>\n",
       "      <td>85</td>\n",
       "      <td>60</td>\n",
       "      <td>54</td>\n",
       "      <td>60</td>\n",
       "      <td>73</td>\n",
       "      <td>22</td>\n",
       "      <td>67</td>\n",
       "      <td>46</td>\n",
       "    </tr>\n",
       "    <tr>\n",
       "      <th>3</th>\n",
       "      <td>[202, 201, 201, 202, 201, 200, 200, 200, 199, ...</td>\n",
       "      <td>66.850428</td>\n",
       "      <td>35.636988</td>\n",
       "      <td>32.528110</td>\n",
       "      <td>36.524623</td>\n",
       "      <td>61.228800</td>\n",
       "      <td>36.524623</td>\n",
       "      <td>71.584883</td>\n",
       "      <td>35.341109</td>\n",
       "      <td>38.149738</td>\n",
       "      <td>...</td>\n",
       "      <td>49</td>\n",
       "      <td>55</td>\n",
       "      <td>56</td>\n",
       "      <td>80</td>\n",
       "      <td>55</td>\n",
       "      <td>72</td>\n",
       "      <td>49</td>\n",
       "      <td>89</td>\n",
       "      <td>49</td>\n",
       "      <td>86</td>\n",
       "    </tr>\n",
       "    <tr>\n",
       "      <th>4</th>\n",
       "      <td>[64, 56, 53, 51, 57, 74, 85, 86, 88, 90, 95, 9...</td>\n",
       "      <td>69.233455</td>\n",
       "      <td>40.021527</td>\n",
       "      <td>25.550836</td>\n",
       "      <td>38.071855</td>\n",
       "      <td>60.262691</td>\n",
       "      <td>40.021527</td>\n",
       "      <td>76.254545</td>\n",
       "      <td>40.411636</td>\n",
       "      <td>33.351273</td>\n",
       "      <td>...</td>\n",
       "      <td>9</td>\n",
       "      <td>51</td>\n",
       "      <td>62</td>\n",
       "      <td>81</td>\n",
       "      <td>28</td>\n",
       "      <td>80</td>\n",
       "      <td>46</td>\n",
       "      <td>79</td>\n",
       "      <td>45</td>\n",
       "      <td>88</td>\n",
       "    </tr>\n",
       "  </tbody>\n",
       "</table>\n",
       "<p>5 rows × 61 columns</p>\n",
       "</div>"
      ],
      "text/plain": [
       "                                          face_image  left_eye_center_x  \\\n",
       "0  [219, 215, 204, 196, 204, 211, 212, 200, 180, ...          64.332936   \n",
       "1  [164, 158, 118, 76, 66, 69, 59, 53, 43, 31, 35...          65.802880   \n",
       "2  [201, 200, 202, 193, 124, 59, 53, 50, 48, 56, ...          66.676941   \n",
       "3  [202, 201, 201, 202, 201, 200, 200, 200, 199, ...          66.850428   \n",
       "4  [64, 56, 53, 51, 57, 74, 85, 86, 88, 90, 95, 9...          69.233455   \n",
       "\n",
       "   left_eye_center_y  right_eye_center_x  right_eye_center_y  \\\n",
       "0          34.970077           29.949277           33.448715   \n",
       "1          34.755200           27.475840           36.185600   \n",
       "2          33.941224           30.713647           36.149506   \n",
       "3          35.636988           32.528110           36.524623   \n",
       "4          40.021527           25.550836           38.071855   \n",
       "\n",
       "   left_eye_inner_corner_x  left_eye_inner_corner_y  left_eye_outer_corner_x  \\\n",
       "0                58.856170                35.274349                70.722723   \n",
       "1                58.652160                37.329280                72.952960   \n",
       "2                60.367059                35.203129                71.724000   \n",
       "3                61.228800                36.524623                71.584883   \n",
       "4                60.262691                40.021527                76.254545   \n",
       "\n",
       "   left_eye_outer_corner_y  right_eye_inner_corner_x  ...  eval_nose_tip_x  \\\n",
       "0                36.187166                 36.034723  ...               47   \n",
       "1                35.899520                 36.342400  ...               11   \n",
       "2                33.310306                 36.707294  ...               48   \n",
       "3                35.341109                 38.149738  ...               49   \n",
       "4                40.411636                 33.351273  ...                9   \n",
       "\n",
       "   eval_nose_tip_y  eval_mouth_left_corner_x  eval_mouth_left_corner_y  \\\n",
       "0               55                        57                        76   \n",
       "1               22                        64                        73   \n",
       "2               57                        85                        60   \n",
       "3               55                        56                        80   \n",
       "4               51                        62                        81   \n",
       "\n",
       "   eval_mouth_right_corner_x  eval_mouth_right_corner_y  \\\n",
       "0                         33                         75   \n",
       "1                         32                         74   \n",
       "2                         54                         60   \n",
       "3                         55                         72   \n",
       "4                         28                         80   \n",
       "\n",
       "   eval_mouth_center_top_lip_x  eval_mouth_center_top_lip_y  \\\n",
       "0                           30                           20   \n",
       "1                           29                           22   \n",
       "2                           73                           22   \n",
       "3                           49                           89   \n",
       "4                           46                           79   \n",
       "\n",
       "   eval_mouth_center_bottom_lip_x  eval_mouth_center_bottom_lip_y  \n",
       "0                              81                              80  \n",
       "1                              47                              83  \n",
       "2                              67                              46  \n",
       "3                              49                              86  \n",
       "4                              45                              88  \n",
       "\n",
       "[5 rows x 61 columns]"
      ]
     },
     "execution_count": 24,
     "metadata": {},
     "output_type": "execute_result"
    }
   ],
   "source": [
    "tested_joined = test_df.join(tested, how=\"inner\")\n",
    "print(tested_joined.shape)\n",
    "tested_joined.head()"
   ]
  },
  {
   "cell_type": "code",
   "execution_count": 25,
   "id": "8c478294",
   "metadata": {},
   "outputs": [
    {
     "name": "stdout",
     "output_type": "stream",
     "text": [
      "(428, 2, 15)\n",
      "(428, 2, 15)\n"
     ]
    }
   ],
   "source": [
    "kp_names = [\n",
    "    c[:-2] for c in test_df.columns if c.endswith(\"_x\") and not c.startswith(\"eval_\")\n",
    "]\n",
    "actual_col_x = [f\"{kp_name}_x\" for kp_name in kp_names]\n",
    "actual_col_y = [f\"{kp_name}_y\" for kp_name in kp_names]\n",
    "eval_col_x = [f\"eval_{kp_name}_x\" for kp_name in kp_names]\n",
    "eval_col_y = [f\"eval_{kp_name}_y\" for kp_name in kp_names]\n",
    "\n",
    "actual_list = []\n",
    "pred_list = []\n",
    "\n",
    "# Calculate error\n",
    "errors_dict = defaultdict(list)\n",
    "for i in range(len(tested_joined)):\n",
    "    this_actual = []\n",
    "    this_pred = []\n",
    "    for j in range(len(kp_names)):\n",
    "        actual_x = tested_joined.iloc[i][actual_col_x[j]]\n",
    "        actual_y = tested_joined.iloc[i][actual_col_y[j]]\n",
    "        eval_x = tested_joined.iloc[i][eval_col_x[j]]\n",
    "        eval_y = tested_joined.iloc[i][eval_col_y[j]]\n",
    "\n",
    "        # error = np.sqrt((actual_x - eval_x) ** 2 + (actual_y - eval_y) ** 2)\n",
    "        # errors_dict[kp_names[j]].append(error)\n",
    "\n",
    "        this_actual.append((actual_x, actual_y))\n",
    "        this_pred.append((eval_x, eval_y))\n",
    "\n",
    "    actual_list.append(this_actual)\n",
    "    pred_list.append(this_pred)\n",
    "\n",
    "actual = np.array(actual_list)\n",
    "pred = np.array(pred_list)\n",
    "\n",
    "# (428, 15, 2) -> (428, 15, 2) translate\n",
    "actual = np.transpose(actual, (0, 2, 1))\n",
    "pred = np.transpose(pred, (0, 2, 1))\n",
    "\n",
    "print(actual.shape)\n",
    "print(pred.shape)\n",
    "\n",
    "# errors_raw = pd.DataFrame(errors_dict)\n",
    "# errors_raw.head()"
   ]
  },
  {
   "cell_type": "code",
   "execution_count": 67,
   "id": "f2bad3e6",
   "metadata": {},
   "outputs": [
    {
     "data": {
      "image/png": "[encoded data removed]",
      "text/plain": [
       "<Figure size 640x480 with 1 Axes>"
      ]
     },
     "metadata": {},
     "output_type": "display_data"
    }
   ],
   "source": [
    "test_index = 1\n",
    "\n",
    "first_test_img = test_df.iloc[test_index][\"face_image\"].reshape(im_height, im_width)\n",
    "actual_kps = actual[test_index]\n",
    "pred_kps = pred[test_index]\n",
    "\n",
    "plt.figure()\n",
    "plt.imshow(first_test_img, cmap=\"gray\")\n",
    "for i in range(actual_kps.shape[1]):\n",
    "    plt.scatter(actual_kps[0][i], actual_kps[1][i], c=\"green\", s=10)\n",
    "    plt.text(actual_kps[0][i], actual_kps[1][i], str(i), color=\"white\", fontsize=8)\n",
    "for i in range(pred_kps.shape[1]):\n",
    "    plt.scatter(pred_kps[0][i], pred_kps[1][i], c=\"red\", s=10)\n",
    "# Draw lines between actual and predicted keypoints\n",
    "for i in range(actual_kps.shape[1]):\n",
    "    plt.plot(\n",
    "        [actual_kps[0][i], pred_kps[0][i]],\n",
    "        [actual_kps[1][i], pred_kps[1][i]],\n",
    "        c=\"g\",\n",
    "        linestyle=\"--\",\n",
    "    )\n",
    "plt.axis(\"off\")\n",
    "plt.show()"
   ]
  },
  {
   "cell_type": "markdown",
   "id": "8927e911",
   "metadata": {},
   "source": [
    "# Performance Evaluation\n"
   ]
  },
  {
   "cell_type": "code",
   "execution_count": 47,
   "id": "4b154eae",
   "metadata": {},
   "outputs": [
    {
     "data": {
      "text/plain": [
       "(428, 2, 15)"
      ]
     },
     "execution_count": 47,
     "metadata": {},
     "output_type": "execute_result"
    }
   ],
   "source": [
    "# Difference between the predicted and actual keypoints in terms of im width\n",
    "diff = (pred - actual) / im_width\n",
    "diff.shape"
   ]
  },
  {
   "cell_type": "markdown",
   "id": "51b18f87",
   "metadata": {},
   "source": [
    "## RMSE\n"
   ]
  },
  {
   "cell_type": "code",
   "execution_count": 57,
   "id": "e91fc509",
   "metadata": {},
   "outputs": [
    {
     "data": {
      "image/png": "[encoded data removed]",
      "text/plain": [
       "<Figure size 600x500 with 2 Axes>"
      ]
     },
     "metadata": {},
     "output_type": "display_data"
    },
    {
     "name": "stdout",
     "output_type": "stream",
     "text": [
      "Images with highest error (RMSE): [array([329,  61, 116,  94, 244])]\n",
      "RMSE values: [0.38396811 0.3602468  0.3556542  0.34869119 0.34619213]\n",
      "\n",
      "Images with lowest error (RMSE): [array([124, 218, 296, 144, 188])]\n",
      "RMSE values: [0.01956734 0.04781957 0.06083379 0.06724393 0.08442267]\n",
      "\n",
      "Correlation between x and y errors: 0.5399\n"
     ]
    }
   ],
   "source": [
    "rmse_by_keypoint = np.mean(diff**2, axis=0)\n",
    "\n",
    "fig, (ax1, ax2) = plt.subplots(2, 1, figsize=(6, 5))\n",
    "\n",
    "ax1.bar(range(rmse_by_keypoint.shape[1]), rmse_by_keypoint[0], label=\"x\", alpha=0.5)\n",
    "ax1.bar(range(rmse_by_keypoint.shape[1]), rmse_by_keypoint[1], label=\"y\", alpha=0.5)\n",
    "ax1.set_title(\"RMSE of Keypoint Predictions\")\n",
    "ax1.set_xlabel(\"Keypoint Index\")\n",
    "ax1.set_ylabel(\"RMSE\")\n",
    "ax1.legend()\n",
    "\n",
    "rmse_by_im = np.sqrt(np.mean(diff**2, axis=(1, 2)))\n",
    "\n",
    "ax2.hist(rmse_by_im, bins=50, edgecolor=\"black\", density=True)\n",
    "ax2.set_title(\"RMSE of Keypoint Predictions by Image\")\n",
    "ax2.set_xlabel(\"RMSE\")\n",
    "ax2.set_ylabel(\"Probability Density\")\n",
    "\n",
    "plt.tight_layout()\n",
    "plt.show()\n",
    "\n",
    "worst_indices = np.argsort(-rmse_by_im)[:5]\n",
    "best_indices = np.argsort(rmse_by_im)[:5]\n",
    "\n",
    "print(f\"Images with highest error (RMSE): {[worst_indices]}\")\n",
    "print(f\"RMSE values: {rmse_by_im[worst_indices]}\")\n",
    "print(f\"\\nImages with lowest error (RMSE): {[best_indices]}\")\n",
    "print(f\"RMSE values: {rmse_by_im[best_indices]}\")\n",
    "\n",
    "x_errors = np.abs(diff[0])\n",
    "y_errors = np.abs(diff[1])\n",
    "correlation = np.corrcoef(x_errors.flatten(), y_errors.flatten())[0, 1]\n",
    "print(f\"\\nCorrelation between x and y errors: {correlation:.4f}\")"
   ]
  },
  {
   "cell_type": "markdown",
   "id": "d6c3f9c2",
   "metadata": {},
   "source": [
    "## MSE\n"
   ]
  },
  {
   "cell_type": "code",
   "execution_count": 58,
   "id": "910e4d2c",
   "metadata": {},
   "outputs": [
    {
     "data": {
      "image/png": "[encoded data removed]",
      "text/plain": [
       "<Figure size 600x500 with 2 Axes>"
      ]
     },
     "metadata": {},
     "output_type": "display_data"
    },
    {
     "name": "stdout",
     "output_type": "stream",
     "text": [
      "Images with highest error (MSE): [array([329,  61, 116,  94, 244])]\n",
      "MSE values: [0.14743151 0.12977776 0.12648991 0.12158555 0.11984899]\n",
      "\n",
      "Images with lowest error (MSE): [array([124, 218, 296, 144, 188])]\n",
      "MSE values: [0.00038288 0.00228671 0.00370075 0.00452175 0.00712719]\n",
      "\n",
      "Correlation between x and y errors: 0.5399\n"
     ]
    }
   ],
   "source": [
    "mse_by_keypoint = np.mean(diff**2, axis=0)\n",
    "\n",
    "fig, (ax1, ax2) = plt.subplots(2, 1, figsize=(6, 5))\n",
    "\n",
    "ax1.bar(range(mse_by_keypoint.shape[1]), mse_by_keypoint[0], label=\"x\", alpha=0.5)\n",
    "ax1.bar(range(mse_by_keypoint.shape[1]), mse_by_keypoint[1], label=\"y\", alpha=0.5)\n",
    "ax1.set_title(\"MSE of Keypoint Predictions\")\n",
    "ax1.set_xlabel(\"Keypoint Index\")\n",
    "ax1.set_ylabel(\"MSE\")\n",
    "ax1.legend()\n",
    "\n",
    "mse_by_im = np.mean(diff**2, axis=(1, 2))\n",
    "\n",
    "ax2.hist(mse_by_im, bins=50, edgecolor=\"black\", density=True)\n",
    "ax2.set_title(\"MSE of Keypoint Predictions by Image\")\n",
    "ax2.set_xlabel(\"MSE\")\n",
    "ax2.set_ylabel(\"Probability Density\")\n",
    "\n",
    "plt.tight_layout()\n",
    "plt.show()\n",
    "\n",
    "worst_indices = np.argsort(-mse_by_im)[:5]\n",
    "best_indices = np.argsort(mse_by_im)[:5]\n",
    "\n",
    "print(f\"Images with highest error (MSE): {[worst_indices]}\")\n",
    "print(f\"MSE values: {mse_by_im[worst_indices]}\")\n",
    "print(f\"\\nImages with lowest error (MSE): {[best_indices]}\")\n",
    "print(f\"MSE values: {mse_by_im[best_indices]}\")\n",
    "\n",
    "x_errors = np.abs(diff[0])\n",
    "y_errors = np.abs(diff[1])\n",
    "correlation = np.corrcoef(x_errors.flatten(), y_errors.flatten())[0, 1]\n",
    "print(f\"\\nCorrelation between x and y errors: {correlation:.4f}\")"
   ]
  },
  {
   "cell_type": "code",
   "execution_count": null,
   "id": "bfdc466e",
   "metadata": {},
   "outputs": [],
   "source": []
  }
 ],
 "metadata": {
  "kernelspec": {
   "display_name": "cs445",
   "language": "python",
   "name": "python3"
  },
  "language_info": {
   "codemirror_mode": {
    "name": "ipython",
    "version": 3
   },
   "file_extension": ".py",
   "mimetype": "text/x-python",
   "name": "python",
   "nbconvert_exporter": "python",
   "pygments_lexer": "ipython3",
   "version": "3.11.11"
  }
 },
 "nbformat": 4,
 "nbformat_minor": 5
}
